{
  "cells": [
    {
      "cell_type": "markdown",
      "metadata": {
        "id": "qNwrP0PdnL7G"
      },
      "source": [
        "# Librerias"
      ]
    },
    {
      "cell_type": "code",
      "execution_count": 1,
      "metadata": {
        "id": "wR7VaFQV6o5m"
      },
      "outputs": [],
      "source": [
        "import pandas as pd\n",
        "import string\n",
        "import re\n",
        "import numpy as np\n",
        "import matplotlib.pyplot as plt\n",
        "import nltk\n",
        "import sys\n",
        "import unicodedata\n",
        "from nltk.corpus import stopwords\n",
        "from nltk import tokenize\n",
        "from nltk.stem.snowball import SnowballStemmer\n",
        "from nltk.tokenize import TweetTokenizer\n",
        "from nltk.corpus import wordnet as wn\n",
        "from nltk import ngrams\n",
        "from sklearn.feature_extraction.text import CountVectorizer\n",
        "from sklearn.decomposition import LatentDirichletAllocation\n",
        "import collections\n",
        "from nltk.stem import WordNetLemmatizer\n"
      ]
    },
    {
      "cell_type": "code",
      "execution_count": 2,
      "metadata": {
        "colab": {
          "base_uri": "https://localhost:8080/"
        },
        "id": "WnWb5ciYVKJv",
        "outputId": "cecf1dee-88ee-4b58-84e2-c1f9395783d4"
      },
      "outputs": [
        {
          "name": "stderr",
          "output_type": "stream",
          "text": [
            "[nltk_data] Downloading package stopwords to\n",
            "[nltk_data]     C:\\Users\\te512362\\AppData\\Roaming\\nltk_data...\n",
            "[nltk_data]   Package stopwords is already up-to-date!\n",
            "[nltk_data] Downloading package wordnet to\n",
            "[nltk_data]     C:\\Users\\te512362\\AppData\\Roaming\\nltk_data...\n",
            "[nltk_data]   Package wordnet is already up-to-date!\n"
          ]
        },
        {
          "data": {
            "text/plain": [
              "True"
            ]
          },
          "execution_count": 2,
          "metadata": {},
          "output_type": "execute_result"
        }
      ],
      "source": [
        "nltk.download('stopwords')\n",
        "nltk.download('wordnet')"
      ]
    },
    {
      "cell_type": "markdown",
      "metadata": {
        "id": "-LostjXxMeBS"
      },
      "source": [
        "# Pre-procesamiento de datos"
      ]
    },
    {
      "cell_type": "code",
      "execution_count": 3,
      "metadata": {
        "id": "pkWdHtze6l9s"
      },
      "outputs": [],
      "source": [
        "#Creamos una variable df con el dataset\n",
        "df = pd.read_csv(\"haha_2021_train.csv\")"
      ]
    },
    {
      "cell_type": "code",
      "execution_count": 4,
      "metadata": {
        "id": "8q1WuYVGGe1c"
      },
      "outputs": [],
      "source": [
        "df.drop([\"votes_no\",\"votes_1\", \"votes_2\", \"votes_3\", \"votes_4\", \"votes_5\",\"humor_mechanism\"],\n",
        "          axis=1,\n",
        "          inplace=True)"
      ]
    },
    {
      "cell_type": "code",
      "execution_count": 5,
      "metadata": {
        "colab": {
          "base_uri": "https://localhost:8080/",
          "height": 206
        },
        "id": "5-fqopZH08r1",
        "outputId": "d007cca1-4fdc-41dd-c0f6-bdbaf6fcf03f"
      },
      "outputs": [
        {
          "data": {
            "text/html": [
              "<div>\n",
              "<style scoped>\n",
              "    .dataframe tbody tr th:only-of-type {\n",
              "        vertical-align: middle;\n",
              "    }\n",
              "\n",
              "    .dataframe tbody tr th {\n",
              "        vertical-align: top;\n",
              "    }\n",
              "\n",
              "    .dataframe thead th {\n",
              "        text-align: right;\n",
              "    }\n",
              "</style>\n",
              "<table border=\"1\" class=\"dataframe\">\n",
              "  <thead>\n",
              "    <tr style=\"text-align: right;\">\n",
              "      <th></th>\n",
              "      <th>id</th>\n",
              "      <th>text</th>\n",
              "      <th>is_humor</th>\n",
              "      <th>humor_rating</th>\n",
              "      <th>humor_target</th>\n",
              "    </tr>\n",
              "  </thead>\n",
              "  <tbody>\n",
              "    <tr>\n",
              "      <th>0</th>\n",
              "      <td>tweet1</td>\n",
              "      <td>Niveles de retraso mental: \\n\\n— Bajo.\\n— Medi...</td>\n",
              "      <td>1</td>\n",
              "      <td>1.5</td>\n",
              "      <td>NaN</td>\n",
              "    </tr>\n",
              "    <tr>\n",
              "      <th>1</th>\n",
              "      <td>tweet2</td>\n",
              "      <td>—Vamos Luke desenfunda tu sable, demuestra tu ...</td>\n",
              "      <td>1</td>\n",
              "      <td>1.5</td>\n",
              "      <td>NaN</td>\n",
              "    </tr>\n",
              "    <tr>\n",
              "      <th>2</th>\n",
              "      <td>tweet3</td>\n",
              "      <td>- ¿Te ofrezco algo?, ¿Agua, café, mi corazón, ...</td>\n",
              "      <td>1</td>\n",
              "      <td>2.6</td>\n",
              "      <td>NaN</td>\n",
              "    </tr>\n",
              "    <tr>\n",
              "      <th>3</th>\n",
              "      <td>tweet4</td>\n",
              "      <td>No se porqué me hago la cabeza deooos</td>\n",
              "      <td>0</td>\n",
              "      <td>NaN</td>\n",
              "      <td>NaN</td>\n",
              "    </tr>\n",
              "    <tr>\n",
              "      <th>4</th>\n",
              "      <td>tweet5</td>\n",
              "      <td>Quisiera saber que hago durante la siesta de l...</td>\n",
              "      <td>0</td>\n",
              "      <td>NaN</td>\n",
              "      <td>NaN</td>\n",
              "    </tr>\n",
              "  </tbody>\n",
              "</table>\n",
              "</div>"
            ],
            "text/plain": [
              "       id                                               text  is_humor  \\\n",
              "0  tweet1  Niveles de retraso mental: \\n\\n— Bajo.\\n— Medi...         1   \n",
              "1  tweet2  —Vamos Luke desenfunda tu sable, demuestra tu ...         1   \n",
              "2  tweet3  - ¿Te ofrezco algo?, ¿Agua, café, mi corazón, ...         1   \n",
              "3  tweet4              No se porqué me hago la cabeza deooos         0   \n",
              "4  tweet5  Quisiera saber que hago durante la siesta de l...         0   \n",
              "\n",
              "   humor_rating humor_target  \n",
              "0           1.5          NaN  \n",
              "1           1.5          NaN  \n",
              "2           2.6          NaN  \n",
              "3           NaN          NaN  \n",
              "4           NaN          NaN  "
            ]
          },
          "execution_count": 5,
          "metadata": {},
          "output_type": "execute_result"
        }
      ],
      "source": [
        "df.head()"
      ]
    },
    {
      "cell_type": "code",
      "execution_count": 6,
      "metadata": {
        "colab": {
          "base_uri": "https://localhost:8080/"
        },
        "id": "fWil13fvVpNw",
        "outputId": "b8abc0b2-6414-4e03-8c91-9e95aad80bae"
      },
      "outputs": [
        {
          "data": {
            "text/plain": [
              "False"
            ]
          },
          "execution_count": 6,
          "metadata": {},
          "output_type": "execute_result"
        }
      ],
      "source": [
        "df.text.isnull().any() # no missing values in is_sarcastic column\n",
        "df.is_humor.isnull().any() # no missing values in headline column"
      ]
    },
    {
      "cell_type": "code",
      "execution_count": 7,
      "metadata": {
        "id": "7O67rqQ1Vuqb"
      },
      "outputs": [],
      "source": [
        "df['text'] = df.text.apply(lambda x:x.lower())  # convert all words in text into lower case \n",
        "df['text'] = df.text.apply(lambda x: ' '.join(word.strip(string.punctuation) for word in x.split()))  # remove all punctuation "
      ]
    },
    {
      "cell_type": "code",
      "execution_count": 8,
      "metadata": {
        "colab": {
          "base_uri": "https://localhost:8080/",
          "height": 206
        },
        "id": "OqtUdqB-iR-j",
        "outputId": "da402e56-8b7a-46d6-b9fb-983af1d324e8"
      },
      "outputs": [
        {
          "data": {
            "text/html": [
              "<div>\n",
              "<style scoped>\n",
              "    .dataframe tbody tr th:only-of-type {\n",
              "        vertical-align: middle;\n",
              "    }\n",
              "\n",
              "    .dataframe tbody tr th {\n",
              "        vertical-align: top;\n",
              "    }\n",
              "\n",
              "    .dataframe thead th {\n",
              "        text-align: right;\n",
              "    }\n",
              "</style>\n",
              "<table border=\"1\" class=\"dataframe\">\n",
              "  <thead>\n",
              "    <tr style=\"text-align: right;\">\n",
              "      <th></th>\n",
              "      <th>id</th>\n",
              "      <th>text</th>\n",
              "      <th>is_humor</th>\n",
              "      <th>humor_rating</th>\n",
              "      <th>humor_target</th>\n",
              "    </tr>\n",
              "  </thead>\n",
              "  <tbody>\n",
              "    <tr>\n",
              "      <th>0</th>\n",
              "      <td>tweet1</td>\n",
              "      <td>niveles de retraso mental — bajo — medio — alt...</td>\n",
              "      <td>1</td>\n",
              "      <td>1.5</td>\n",
              "      <td>NaN</td>\n",
              "    </tr>\n",
              "    <tr>\n",
              "      <th>1</th>\n",
              "      <td>tweet2</td>\n",
              "      <td>—vamos luke desenfunda tu sable demuestra tu o...</td>\n",
              "      <td>1</td>\n",
              "      <td>1.5</td>\n",
              "      <td>NaN</td>\n",
              "    </tr>\n",
              "    <tr>\n",
              "      <th>2</th>\n",
              "      <td>tweet3</td>\n",
              "      <td>¿te ofrezco algo ¿agua café mi corazón mi vid...</td>\n",
              "      <td>1</td>\n",
              "      <td>2.6</td>\n",
              "      <td>NaN</td>\n",
              "    </tr>\n",
              "    <tr>\n",
              "      <th>3</th>\n",
              "      <td>tweet4</td>\n",
              "      <td>no se porqué me hago la cabeza deooos</td>\n",
              "      <td>0</td>\n",
              "      <td>NaN</td>\n",
              "      <td>NaN</td>\n",
              "    </tr>\n",
              "    <tr>\n",
              "      <th>4</th>\n",
              "      <td>tweet5</td>\n",
              "      <td>quisiera saber que hago durante la siesta de l...</td>\n",
              "      <td>0</td>\n",
              "      <td>NaN</td>\n",
              "      <td>NaN</td>\n",
              "    </tr>\n",
              "  </tbody>\n",
              "</table>\n",
              "</div>"
            ],
            "text/plain": [
              "       id                                               text  is_humor  \\\n",
              "0  tweet1  niveles de retraso mental — bajo — medio — alt...         1   \n",
              "1  tweet2  —vamos luke desenfunda tu sable demuestra tu o...         1   \n",
              "2  tweet3   ¿te ofrezco algo ¿agua café mi corazón mi vid...         1   \n",
              "3  tweet4              no se porqué me hago la cabeza deooos         0   \n",
              "4  tweet5  quisiera saber que hago durante la siesta de l...         0   \n",
              "\n",
              "   humor_rating humor_target  \n",
              "0           1.5          NaN  \n",
              "1           1.5          NaN  \n",
              "2           2.6          NaN  \n",
              "3           NaN          NaN  \n",
              "4           NaN          NaN  "
            ]
          },
          "execution_count": 8,
          "metadata": {},
          "output_type": "execute_result"
        }
      ],
      "source": [
        "df.head()"
      ]
    },
    {
      "cell_type": "code",
      "execution_count": 9,
      "metadata": {
        "id": "pOGN_I2hlaS4"
      },
      "outputs": [],
      "source": [
        "df = df.assign(CleanText=\"\", TokenizeText=\"\", NoStopwords=\"\", LemmaText=\"\")"
      ]
    },
    {
      "cell_type": "code",
      "execution_count": 94,
      "metadata": {
        "colab": {
          "base_uri": "https://localhost:8080/"
        },
        "id": "sBgRSltf4B2n",
        "outputId": "9708b8e4-1480-4fe0-d4ae-62106f11ebc3"
      },
      "outputs": [],
      "source": [
        "# case text as lowercase, remove punctuation, remove extra whitespace in string and on both sides of string\n",
        "\n",
        "df['CleanText'] = df['text'].str.replace(\"'\", '').str.replace('[^\\w\\s]', ' ').str.replace(\" \\d+\", \" \").str.replace(' +', ' ').str.strip()\n"
      ]
    },
    {
      "cell_type": "code",
      "execution_count": 95,
      "metadata": {
        "id": "66u9u6zEXk_G"
      },
      "outputs": [],
      "source": [
        "def Tokenizacion(tweet):\n",
        "  tokenizer = TweetTokenizer(preserve_case=False, strip_handles=True, reduce_len=True)\n",
        "  tweet_tokens = tokenizer.tokenize(tweet)\n",
        "  return tweet_tokens\n",
        "\n"
      ]
    },
    {
      "cell_type": "code",
      "execution_count": 96,
      "metadata": {
        "colab": {
          "base_uri": "https://localhost:8080/"
        },
        "id": "7UixdagnlLv1",
        "outputId": "d4368ac1-cb46-4f23-d062-42678c0d6f1f"
      },
      "outputs": [
        {
          "name": "stderr",
          "output_type": "stream",
          "text": [
            "c:\\Users\\te512362\\AppData\\Local\\Programs\\Python\\Python36\\lib\\site-packages\\ipykernel_launcher.py:2: SettingWithCopyWarning: \n",
            "A value is trying to be set on a copy of a slice from a DataFrame\n",
            "\n",
            "See the caveats in the documentation: https://pandas.pydata.org/pandas-docs/stable/user_guide/indexing.html#returning-a-view-versus-a-copy\n",
            "  \n"
          ]
        }
      ],
      "source": [
        "for i in range(len(df)):\n",
        "  df['TokenizeText'][i] = Tokenizacion(df['CleanText'][i])"
      ]
    },
    {
      "cell_type": "code",
      "execution_count": 97,
      "metadata": {
        "id": "l7TjBBaflPps"
      },
      "outputs": [],
      "source": [
        "stop_words_sp = set(stopwords.words('spanish'))\n",
        "stop_words_en = set(stopwords.words('english'))\n",
        "#Concatenar las stopwords aplicándose a una cuenta que genera contenido en inglés y español\n",
        "stop_words = stop_words_sp | stop_words_en"
      ]
    },
    {
      "cell_type": "code",
      "execution_count": 98,
      "metadata": {
        "id": "oRAbGGdQlArD"
      },
      "outputs": [],
      "source": [
        "df['NoStopwords'] = df['TokenizeText'].apply(lambda x: [item for item in x if item not in stop_words])"
      ]
    },
    {
      "cell_type": "code",
      "execution_count": 99,
      "metadata": {
        "colab": {
          "base_uri": "https://localhost:8080/",
          "height": 337
        },
        "id": "bFYTA90UlUtF",
        "outputId": "68a0a5a6-b070-46c1-d8c5-933508a4b909"
      },
      "outputs": [
        {
          "data": {
            "text/html": [
              "<div>\n",
              "<style scoped>\n",
              "    .dataframe tbody tr th:only-of-type {\n",
              "        vertical-align: middle;\n",
              "    }\n",
              "\n",
              "    .dataframe tbody tr th {\n",
              "        vertical-align: top;\n",
              "    }\n",
              "\n",
              "    .dataframe thead th {\n",
              "        text-align: right;\n",
              "    }\n",
              "</style>\n",
              "<table border=\"1\" class=\"dataframe\">\n",
              "  <thead>\n",
              "    <tr style=\"text-align: right;\">\n",
              "      <th></th>\n",
              "      <th>id</th>\n",
              "      <th>text</th>\n",
              "      <th>is_humor</th>\n",
              "      <th>humor_rating</th>\n",
              "      <th>humor_target</th>\n",
              "      <th>CleanText</th>\n",
              "      <th>TokenizeText</th>\n",
              "      <th>NoStopwords</th>\n",
              "      <th>LemmaText</th>\n",
              "    </tr>\n",
              "  </thead>\n",
              "  <tbody>\n",
              "    <tr>\n",
              "      <th>0</th>\n",
              "      <td>tweet1</td>\n",
              "      <td>niveles de retraso mental — bajo — medio — alt...</td>\n",
              "      <td>1</td>\n",
              "      <td>1.5</td>\n",
              "      <td>NaN</td>\n",
              "      <td>niveles de retraso mental bajo medio alto elev...</td>\n",
              "      <td>[niveles, de, retraso, mental, bajo, medio, al...</td>\n",
              "      <td>[niveles, retraso, mental, bajo, medio, alto, ...</td>\n",
              "      <td>[niveles, retraso, mental, bajo, medio, alto, ...</td>\n",
              "    </tr>\n",
              "    <tr>\n",
              "      <th>1</th>\n",
              "      <td>tweet2</td>\n",
              "      <td>—vamos luke desenfunda tu sable demuestra tu o...</td>\n",
              "      <td>1</td>\n",
              "      <td>1.5</td>\n",
              "      <td>NaN</td>\n",
              "      <td>vamos luke desenfunda tu sable demuestra tu od...</td>\n",
              "      <td>[vamos, luke, desenfunda, tu, sable, demuestra...</td>\n",
              "      <td>[vamos, luke, desenfunda, sable, demuestra, od...</td>\n",
              "      <td>[vamos, luke, desenfunda, sable, demuestra, od...</td>\n",
              "    </tr>\n",
              "    <tr>\n",
              "      <th>2</th>\n",
              "      <td>tweet3</td>\n",
              "      <td>¿te ofrezco algo ¿agua café mi corazón mi vid...</td>\n",
              "      <td>1</td>\n",
              "      <td>2.6</td>\n",
              "      <td>NaN</td>\n",
              "      <td>te ofrezco algo agua café mi corazón mi vida e...</td>\n",
              "      <td>[te, ofrezco, algo, agua, café, mi, corazón, m...</td>\n",
              "      <td>[ofrezco, agua, café, corazón, vida, entera, a...</td>\n",
              "      <td>[ofrezco, agua, café, corazón, vida, enteron, ...</td>\n",
              "    </tr>\n",
              "    <tr>\n",
              "      <th>3</th>\n",
              "      <td>tweet4</td>\n",
              "      <td>no se porqué me hago la cabeza deooos</td>\n",
              "      <td>0</td>\n",
              "      <td>NaN</td>\n",
              "      <td>NaN</td>\n",
              "      <td>no se porqué me hago la cabeza deooos</td>\n",
              "      <td>[no, se, porqué, me, hago, la, cabeza, deooos]</td>\n",
              "      <td>[porqué, hago, cabeza, deooos]</td>\n",
              "      <td>[porqué, hago, cabeza, deooos]</td>\n",
              "    </tr>\n",
              "    <tr>\n",
              "      <th>4</th>\n",
              "      <td>tweet5</td>\n",
              "      <td>quisiera saber que hago durante la siesta de l...</td>\n",
              "      <td>0</td>\n",
              "      <td>NaN</td>\n",
              "      <td>NaN</td>\n",
              "      <td>quisiera saber que hago durante la siesta de l...</td>\n",
              "      <td>[quisiera, saber, que, hago, durante, la, sies...</td>\n",
              "      <td>[quisiera, saber, hago, siesta, levanto, cansa...</td>\n",
              "      <td>[quisiera, saber, hago, siesta, levanto, cansa...</td>\n",
              "    </tr>\n",
              "  </tbody>\n",
              "</table>\n",
              "</div>"
            ],
            "text/plain": [
              "       id                                               text  is_humor  \\\n",
              "0  tweet1  niveles de retraso mental — bajo — medio — alt...         1   \n",
              "1  tweet2  —vamos luke desenfunda tu sable demuestra tu o...         1   \n",
              "2  tweet3   ¿te ofrezco algo ¿agua café mi corazón mi vid...         1   \n",
              "3  tweet4              no se porqué me hago la cabeza deooos         0   \n",
              "4  tweet5  quisiera saber que hago durante la siesta de l...         0   \n",
              "\n",
              "   humor_rating humor_target  \\\n",
              "0           1.5          NaN   \n",
              "1           1.5          NaN   \n",
              "2           2.6          NaN   \n",
              "3           NaN          NaN   \n",
              "4           NaN          NaN   \n",
              "\n",
              "                                           CleanText  \\\n",
              "0  niveles de retraso mental bajo medio alto elev...   \n",
              "1  vamos luke desenfunda tu sable demuestra tu od...   \n",
              "2  te ofrezco algo agua café mi corazón mi vida e...   \n",
              "3              no se porqué me hago la cabeza deooos   \n",
              "4  quisiera saber que hago durante la siesta de l...   \n",
              "\n",
              "                                        TokenizeText  \\\n",
              "0  [niveles, de, retraso, mental, bajo, medio, al...   \n",
              "1  [vamos, luke, desenfunda, tu, sable, demuestra...   \n",
              "2  [te, ofrezco, algo, agua, café, mi, corazón, m...   \n",
              "3     [no, se, porqué, me, hago, la, cabeza, deooos]   \n",
              "4  [quisiera, saber, que, hago, durante, la, sies...   \n",
              "\n",
              "                                         NoStopwords  \\\n",
              "0  [niveles, retraso, mental, bajo, medio, alto, ...   \n",
              "1  [vamos, luke, desenfunda, sable, demuestra, od...   \n",
              "2  [ofrezco, agua, café, corazón, vida, entera, a...   \n",
              "3                     [porqué, hago, cabeza, deooos]   \n",
              "4  [quisiera, saber, hago, siesta, levanto, cansa...   \n",
              "\n",
              "                                           LemmaText  \n",
              "0  [niveles, retraso, mental, bajo, medio, alto, ...  \n",
              "1  [vamos, luke, desenfunda, sable, demuestra, od...  \n",
              "2  [ofrezco, agua, café, corazón, vida, enteron, ...  \n",
              "3                     [porqué, hago, cabeza, deooos]  \n",
              "4  [quisiera, saber, hago, siesta, levanto, cansa...  "
            ]
          },
          "execution_count": 99,
          "metadata": {},
          "output_type": "execute_result"
        }
      ],
      "source": [
        "df.head()"
      ]
    },
    {
      "cell_type": "code",
      "execution_count": 16,
      "metadata": {},
      "outputs": [],
      "source": [
        "import nltk\n",
        "from nltk.stem import WordNetLemmatizer"
      ]
    },
    {
      "cell_type": "code",
      "execution_count": 17,
      "metadata": {},
      "outputs": [
        {
          "name": "stderr",
          "output_type": "stream",
          "text": [
            "[nltk_data] Downloading package omw-1.4 to\n",
            "[nltk_data]     C:\\Users\\te512362\\AppData\\Roaming\\nltk_data...\n",
            "[nltk_data]   Package omw-1.4 is already up-to-date!\n"
          ]
        },
        {
          "data": {
            "text/plain": [
              "True"
            ]
          },
          "execution_count": 17,
          "metadata": {},
          "output_type": "execute_result"
        }
      ],
      "source": [
        "nltk.download('omw-1.4')"
      ]
    },
    {
      "cell_type": "code",
      "execution_count": 18,
      "metadata": {
        "id": "JiK7paTflekw"
      },
      "outputs": [],
      "source": [
        "wordnet_lemmatizer = WordNetLemmatizer()\n",
        "\n",
        "df['LemmaText'] = df['NoStopwords'].apply(lambda x: [wordnet_lemmatizer.lemmatize(y) for y in x]) \n"
      ]
    },
    {
      "cell_type": "code",
      "execution_count": 19,
      "metadata": {
        "id": "WLE5yhPwrhyC"
      },
      "outputs": [],
      "source": [
        "df2 = df[df['humor_target'].isna() != True]"
      ]
    },
    {
      "cell_type": "code",
      "execution_count": 20,
      "metadata": {
        "id": "Kg3tcSbqs3u0"
      },
      "outputs": [],
      "source": [
        "topicos = np.unique(df2['humor_target'])"
      ]
    },
    {
      "cell_type": "code",
      "execution_count": 21,
      "metadata": {
        "id": "GLRWcC_KtuNS"
      },
      "outputs": [],
      "source": [
        "topics = []\n",
        "for element in topicos:\n",
        "    if element not in topics:\n",
        "        topics.append(element)"
      ]
    },
    {
      "cell_type": "code",
      "execution_count": 22,
      "metadata": {
        "colab": {
          "base_uri": "https://localhost:8080/"
        },
        "id": "HTQXXMSBuAD4",
        "outputId": "857c6f13-d0e3-4117-f69e-595025875f8f"
      },
      "outputs": [
        {
          "data": {
            "text/plain": [
              "53"
            ]
          },
          "execution_count": 22,
          "metadata": {},
          "output_type": "execute_result"
        }
      ],
      "source": [
        "len(topics)"
      ]
    },
    {
      "cell_type": "code",
      "execution_count": 23,
      "metadata": {
        "id": "minfLZnfu3hQ"
      },
      "outputs": [],
      "source": [
        "dfLDA = df[df['humor_rating'].isna() != True]"
      ]
    },
    {
      "cell_type": "code",
      "execution_count": 24,
      "metadata": {
        "colab": {
          "base_uri": "https://localhost:8080/"
        },
        "id": "nN2Y3DYIyXeF",
        "outputId": "87f95c82-91db-45d5-86ee-bd9c530da7a9"
      },
      "outputs": [
        {
          "name": "stderr",
          "output_type": "stream",
          "text": [
            "c:\\Users\\te512362\\AppData\\Local\\Programs\\Python\\Python36\\lib\\site-packages\\ipykernel_launcher.py:1: SettingWithCopyWarning: \n",
            "A value is trying to be set on a copy of a slice from a DataFrame.\n",
            "Try using .loc[row_indexer,col_indexer] = value instead\n",
            "\n",
            "See the caveats in the documentation: https://pandas.pydata.org/pandas-docs/stable/user_guide/indexing.html#returning-a-view-versus-a-copy\n",
            "  \"\"\"Entry point for launching an IPython kernel.\n",
            "c:\\Users\\te512362\\AppData\\Local\\Programs\\Python\\Python36\\lib\\site-packages\\ipykernel_launcher.py:2: SettingWithCopyWarning: \n",
            "A value is trying to be set on a copy of a slice from a DataFrame.\n",
            "Try using .loc[row_indexer,col_indexer] = value instead\n",
            "\n",
            "See the caveats in the documentation: https://pandas.pydata.org/pandas-docs/stable/user_guide/indexing.html#returning-a-view-versus-a-copy\n",
            "  \n"
          ]
        }
      ],
      "source": [
        "dfLDA['humor_rating'] = dfLDA['humor_rating'].round()\n",
        "dfLDA['humor_rating'] = np.array(dfLDA['humor_rating'], dtype=np.int)"
      ]
    },
    {
      "cell_type": "code",
      "execution_count": 25,
      "metadata": {
        "colab": {
          "base_uri": "https://localhost:8080/",
          "height": 357
        },
        "id": "bgox_C1xyiTZ",
        "outputId": "812b1459-0c4e-43b5-ee1c-037bff87851f"
      },
      "outputs": [
        {
          "data": {
            "text/html": [
              "<div>\n",
              "<style scoped>\n",
              "    .dataframe tbody tr th:only-of-type {\n",
              "        vertical-align: middle;\n",
              "    }\n",
              "\n",
              "    .dataframe tbody tr th {\n",
              "        vertical-align: top;\n",
              "    }\n",
              "\n",
              "    .dataframe thead th {\n",
              "        text-align: right;\n",
              "    }\n",
              "</style>\n",
              "<table border=\"1\" class=\"dataframe\">\n",
              "  <thead>\n",
              "    <tr style=\"text-align: right;\">\n",
              "      <th></th>\n",
              "      <th>id</th>\n",
              "      <th>text</th>\n",
              "      <th>is_humor</th>\n",
              "      <th>humor_rating</th>\n",
              "      <th>humor_target</th>\n",
              "      <th>CleanText</th>\n",
              "      <th>TokenizeText</th>\n",
              "      <th>NoStopwords</th>\n",
              "      <th>LemmaText</th>\n",
              "    </tr>\n",
              "  </thead>\n",
              "  <tbody>\n",
              "    <tr>\n",
              "      <th>0</th>\n",
              "      <td>tweet1</td>\n",
              "      <td>niveles de retraso mental — bajo — medio — alt...</td>\n",
              "      <td>1</td>\n",
              "      <td>2</td>\n",
              "      <td>NaN</td>\n",
              "      <td>niveles de retraso mental bajo medio alto elev...</td>\n",
              "      <td>[niveles, de, retraso, mental, bajo, medio, al...</td>\n",
              "      <td>[niveles, retraso, mental, bajo, medio, alto, ...</td>\n",
              "      <td>[niveles, retraso, mental, bajo, medio, alto, ...</td>\n",
              "    </tr>\n",
              "    <tr>\n",
              "      <th>1</th>\n",
              "      <td>tweet2</td>\n",
              "      <td>—vamos luke desenfunda tu sable demuestra tu o...</td>\n",
              "      <td>1</td>\n",
              "      <td>2</td>\n",
              "      <td>NaN</td>\n",
              "      <td>vamos luke desenfunda tu sable demuestra tu od...</td>\n",
              "      <td>[vamos, luke, desenfunda, tu, sable, demuestra...</td>\n",
              "      <td>[vamos, luke, desenfunda, sable, demuestra, od...</td>\n",
              "      <td>[vamos, luke, desenfunda, sable, demuestra, od...</td>\n",
              "    </tr>\n",
              "    <tr>\n",
              "      <th>2</th>\n",
              "      <td>tweet3</td>\n",
              "      <td>¿te ofrezco algo ¿agua café mi corazón mi vid...</td>\n",
              "      <td>1</td>\n",
              "      <td>3</td>\n",
              "      <td>NaN</td>\n",
              "      <td>te ofrezco algo agua café mi corazón mi vida e...</td>\n",
              "      <td>[te, ofrezco, algo, agua, café, mi, corazón, m...</td>\n",
              "      <td>[ofrezco, agua, café, corazón, vida, entera, a...</td>\n",
              "      <td>[ofrezco, agua, café, corazón, vida, enteron, ...</td>\n",
              "    </tr>\n",
              "    <tr>\n",
              "      <th>6</th>\n",
              "      <td>tweet7</td>\n",
              "      <td>—buenas don pepe ¿me vende un litro de leche —...</td>\n",
              "      <td>1</td>\n",
              "      <td>2</td>\n",
              "      <td>NaN</td>\n",
              "      <td>buenas don pepe me vende un litro de leche ent...</td>\n",
              "      <td>[buenas, don, pepe, me, vende, un, litro, de, ...</td>\n",
              "      <td>[buenas, pepe, vende, litro, leche, entera, si...</td>\n",
              "      <td>[buenas, pepe, vende, litro, leche, enteron, s...</td>\n",
              "    </tr>\n",
              "    <tr>\n",
              "      <th>12</th>\n",
              "      <td>tweet13</td>\n",
              "      <td>20cosasquehacerantesdemorir enseñarles la dife...</td>\n",
              "      <td>1</td>\n",
              "      <td>3</td>\n",
              "      <td>NaN</td>\n",
              "      <td>20cosasquehacerantesdemorir enseñarles la dife...</td>\n",
              "      <td>[20cosasquehacerantesdemorir, enseñarles, la, ...</td>\n",
              "      <td>[20cosasquehacerantesdemorir, enseñarles, dife...</td>\n",
              "      <td>[20cosasquehacerantesdemorir, enseñarles, dife...</td>\n",
              "    </tr>\n",
              "  </tbody>\n",
              "</table>\n",
              "</div>"
            ],
            "text/plain": [
              "         id                                               text  is_humor  \\\n",
              "0    tweet1  niveles de retraso mental — bajo — medio — alt...         1   \n",
              "1    tweet2  —vamos luke desenfunda tu sable demuestra tu o...         1   \n",
              "2    tweet3   ¿te ofrezco algo ¿agua café mi corazón mi vid...         1   \n",
              "6    tweet7  —buenas don pepe ¿me vende un litro de leche —...         1   \n",
              "12  tweet13  20cosasquehacerantesdemorir enseñarles la dife...         1   \n",
              "\n",
              "    humor_rating humor_target  \\\n",
              "0              2          NaN   \n",
              "1              2          NaN   \n",
              "2              3          NaN   \n",
              "6              2          NaN   \n",
              "12             3          NaN   \n",
              "\n",
              "                                            CleanText  \\\n",
              "0   niveles de retraso mental bajo medio alto elev...   \n",
              "1   vamos luke desenfunda tu sable demuestra tu od...   \n",
              "2   te ofrezco algo agua café mi corazón mi vida e...   \n",
              "6   buenas don pepe me vende un litro de leche ent...   \n",
              "12  20cosasquehacerantesdemorir enseñarles la dife...   \n",
              "\n",
              "                                         TokenizeText  \\\n",
              "0   [niveles, de, retraso, mental, bajo, medio, al...   \n",
              "1   [vamos, luke, desenfunda, tu, sable, demuestra...   \n",
              "2   [te, ofrezco, algo, agua, café, mi, corazón, m...   \n",
              "6   [buenas, don, pepe, me, vende, un, litro, de, ...   \n",
              "12  [20cosasquehacerantesdemorir, enseñarles, la, ...   \n",
              "\n",
              "                                          NoStopwords  \\\n",
              "0   [niveles, retraso, mental, bajo, medio, alto, ...   \n",
              "1   [vamos, luke, desenfunda, sable, demuestra, od...   \n",
              "2   [ofrezco, agua, café, corazón, vida, entera, a...   \n",
              "6   [buenas, pepe, vende, litro, leche, entera, si...   \n",
              "12  [20cosasquehacerantesdemorir, enseñarles, dife...   \n",
              "\n",
              "                                            LemmaText  \n",
              "0   [niveles, retraso, mental, bajo, medio, alto, ...  \n",
              "1   [vamos, luke, desenfunda, sable, demuestra, od...  \n",
              "2   [ofrezco, agua, café, corazón, vida, enteron, ...  \n",
              "6   [buenas, pepe, vende, litro, leche, enteron, s...  \n",
              "12  [20cosasquehacerantesdemorir, enseñarles, dife...  "
            ]
          },
          "execution_count": 25,
          "metadata": {},
          "output_type": "execute_result"
        }
      ],
      "source": [
        "dfLDA.head()"
      ]
    },
    {
      "cell_type": "markdown",
      "metadata": {},
      "source": [
        "# MLFlow & LDA"
      ]
    },
    {
      "cell_type": "code",
      "execution_count": 26,
      "metadata": {},
      "outputs": [
        {
          "name": "stderr",
          "output_type": "stream",
          "text": [
            "c:\\Users\\te512362\\AppData\\Local\\Programs\\Python\\Python36\\lib\\site-packages\\ipykernel_launcher.py:1: FutureWarning: MLflow support for Python 3.6 is deprecated and will be dropped in an upcoming release. At that point, existing Python 3.6 workflows that use MLflow will continue to work without modification, but Python 3.6 users will no longer get access to the latest MLflow features and bugfixes. We recommend that you upgrade to Python 3.7 or newer.\n",
            "  \"\"\"Entry point for launching an IPython kernel.\n"
          ]
        }
      ],
      "source": [
        "import mlflow\n",
        "import mlflow.sklearn\n",
        "track_uri = \"http://localhost:5000/\" # Esto puede ser que cambie por http://0.0.0.0:1234\n",
        "mlflow.set_tracking_uri(track_uri)\n",
        "mlflow.set_registry_uri(\"sqlite:////tmp/registry.db\")\n"
      ]
    },
    {
      "cell_type": "code",
      "execution_count": 27,
      "metadata": {},
      "outputs": [
        {
          "name": "stdout",
          "output_type": "stream",
          "text": [
            "MLflow Version: 1.23.1\n",
            "Tracking URI: http://localhost:5000/\n",
            "Nombre del experimento: LDA\n",
            "ID del experimento: 1\n"
          ]
        }
      ],
      "source": [
        "# Generando el experimento o cargandolo si existe\n",
        "experiment_name = \"LDA\"\n",
        "mlflow.set_experiment(experiment_name)\n",
        "\n",
        "# Cargando la información\n",
        "client = mlflow.tracking.MlflowClient()\n",
        "experiment_id = client.get_experiment_by_name(experiment_name).experiment_id\n",
        "\n",
        "\n",
        "# Vamos a ver si es cierto\n",
        "print(f\"MLflow Version: {mlflow.__version__}\")\n",
        "print(f\"Tracking URI: {mlflow.tracking.get_tracking_uri()}\")\n",
        "print(f\"Nombre del experimento: {experiment_name}\")\n",
        "print(f\"ID del experimento: {experiment_id}\")"
      ]
    },
    {
      "cell_type": "code",
      "execution_count": 28,
      "metadata": {},
      "outputs": [],
      "source": [
        "import pickle"
      ]
    },
    {
      "cell_type": "code",
      "execution_count": 84,
      "metadata": {},
      "outputs": [
        {
          "name": "stderr",
          "output_type": "stream",
          "text": [
            "2022/05/18 10:18:57 WARNING mlflow.sklearn: Training metrics will not be recorded because training labels were not specified. To automatically record training metrics, provide training labels as inputs to the model training function.\n",
            "2022/05/18 10:18:57 WARNING mlflow.sklearn: Failed to infer model signature: the trained model does not specify a `predict` function, which is required in order to infer the signature\n"
          ]
        }
      ],
      "source": [
        "mlflow.sklearn.autolog()\n",
        "paramsVec = {\"analyzer\":\"word\",\"ngram_range\": (2,2)}\n",
        "\n",
        "# initialise the count vectorizer\n",
        "vectorizer = CountVectorizer(**(paramsVec))       \n",
        "\n",
        "with open('Vectorize.pkl', 'wb') as file:  \n",
        "    pickle.dump(vectorizer, file)          \n",
        "# join the processed data to be vectorised no_stopwords\n",
        "vectors = []\n",
        "for index, row in df.iterrows():\n",
        "    vectors.append(\", \".join(row[8]))\n",
        "vectorised = vectorizer.fit_transform(vectors)\n",
        "\n",
        "\n",
        "params = {'n_components':10,'random_state':10,'evaluate_every':-1,'n_jobs':-1}\n",
        "mlflow.log_params(paramsVec)\n",
        "mlflow.log_params(params)\n",
        "mlflow.log_artifact(\"Vectorize.pkl\", \"Vectores\")\n",
        "\n",
        "\n",
        "lda_model = LatentDirichletAllocation(**params)\n",
        "lda_output = lda_model.fit_transform(vectorised)\n",
        "\n",
        "mlflow.sklearn.log_model(lda_model, artifact_path=\"sklearn-model\")\n",
        "\n",
        "#metrics = mlflow.sklearn.eval_and_log_metrics(lda_model,vectorised, prefix=\"val_\")\n",
        "mlflow.end_run()"
      ]
    },
    {
      "cell_type": "code",
      "execution_count": 85,
      "metadata": {},
      "outputs": [
        {
          "data": {
            "text/html": [
              "<div>\n",
              "<style scoped>\n",
              "    .dataframe tbody tr th:only-of-type {\n",
              "        vertical-align: middle;\n",
              "    }\n",
              "\n",
              "    .dataframe tbody tr th {\n",
              "        vertical-align: top;\n",
              "    }\n",
              "\n",
              "    .dataframe thead th {\n",
              "        text-align: right;\n",
              "    }\n",
              "</style>\n",
              "<table border=\"1\" class=\"dataframe\">\n",
              "  <thead>\n",
              "    <tr style=\"text-align: right;\">\n",
              "      <th></th>\n",
              "      <th>id</th>\n",
              "      <th>text</th>\n",
              "      <th>is_humor</th>\n",
              "      <th>humor_rating</th>\n",
              "      <th>humor_target</th>\n",
              "      <th>CleanText</th>\n",
              "      <th>TokenizeText</th>\n",
              "      <th>NoStopwords</th>\n",
              "      <th>LemmaText</th>\n",
              "      <th>Topic1</th>\n",
              "      <th>Topic2</th>\n",
              "      <th>Topic3</th>\n",
              "      <th>Topic4</th>\n",
              "      <th>Topic5</th>\n",
              "      <th>Topic6</th>\n",
              "      <th>Topic7</th>\n",
              "      <th>Topic8</th>\n",
              "      <th>Topic9</th>\n",
              "      <th>Topic10</th>\n",
              "      <th>Dominant_topic</th>\n",
              "    </tr>\n",
              "  </thead>\n",
              "  <tbody>\n",
              "    <tr>\n",
              "      <th>0</th>\n",
              "      <td>tweet1</td>\n",
              "      <td>niveles de retraso mental — bajo — medio — alt...</td>\n",
              "      <td>1</td>\n",
              "      <td>1.5</td>\n",
              "      <td>NaN</td>\n",
              "      <td>niveles de retraso mental bajo medio alto elev...</td>\n",
              "      <td>[niveles, de, retraso, mental, bajo, medio, al...</td>\n",
              "      <td>[niveles, retraso, mental, bajo, medio, alto, ...</td>\n",
              "      <td>[niveles, retraso, mental, bajo, medio, alto, ...</td>\n",
              "      <td>0.01</td>\n",
              "      <td>0.01</td>\n",
              "      <td>0.01</td>\n",
              "      <td>0.90</td>\n",
              "      <td>0.01</td>\n",
              "      <td>0.01</td>\n",
              "      <td>0.01</td>\n",
              "      <td>0.01</td>\n",
              "      <td>0.01</td>\n",
              "      <td>0.01</td>\n",
              "      <td>4</td>\n",
              "    </tr>\n",
              "    <tr>\n",
              "      <th>1</th>\n",
              "      <td>tweet2</td>\n",
              "      <td>—vamos luke desenfunda tu sable demuestra tu o...</td>\n",
              "      <td>1</td>\n",
              "      <td>1.5</td>\n",
              "      <td>NaN</td>\n",
              "      <td>vamos luke desenfunda tu sable demuestra tu od...</td>\n",
              "      <td>[vamos, luke, desenfunda, tu, sable, demuestra...</td>\n",
              "      <td>[vamos, luke, desenfunda, sable, demuestra, od...</td>\n",
              "      <td>[vamos, luke, desenfunda, sable, demuestra, od...</td>\n",
              "      <td>0.01</td>\n",
              "      <td>0.01</td>\n",
              "      <td>0.94</td>\n",
              "      <td>0.01</td>\n",
              "      <td>0.01</td>\n",
              "      <td>0.01</td>\n",
              "      <td>0.01</td>\n",
              "      <td>0.01</td>\n",
              "      <td>0.01</td>\n",
              "      <td>0.01</td>\n",
              "      <td>3</td>\n",
              "    </tr>\n",
              "    <tr>\n",
              "      <th>2</th>\n",
              "      <td>tweet3</td>\n",
              "      <td>¿te ofrezco algo ¿agua café mi corazón mi vid...</td>\n",
              "      <td>1</td>\n",
              "      <td>2.6</td>\n",
              "      <td>NaN</td>\n",
              "      <td>te ofrezco algo agua café mi corazón mi vida e...</td>\n",
              "      <td>[te, ofrezco, algo, agua, café, mi, corazón, m...</td>\n",
              "      <td>[ofrezco, agua, café, corazón, vida, entera, a...</td>\n",
              "      <td>[ofrezco, agua, café, corazón, vida, enteron, ...</td>\n",
              "      <td>0.92</td>\n",
              "      <td>0.01</td>\n",
              "      <td>0.01</td>\n",
              "      <td>0.01</td>\n",
              "      <td>0.01</td>\n",
              "      <td>0.01</td>\n",
              "      <td>0.01</td>\n",
              "      <td>0.01</td>\n",
              "      <td>0.01</td>\n",
              "      <td>0.01</td>\n",
              "      <td>1</td>\n",
              "    </tr>\n",
              "    <tr>\n",
              "      <th>3</th>\n",
              "      <td>tweet4</td>\n",
              "      <td>no se porqué me hago la cabeza deooos</td>\n",
              "      <td>0</td>\n",
              "      <td>NaN</td>\n",
              "      <td>NaN</td>\n",
              "      <td>no se porqué me hago la cabeza deooos</td>\n",
              "      <td>[no, se, porqué, me, hago, la, cabeza, deooos]</td>\n",
              "      <td>[porqué, hago, cabeza, deooos]</td>\n",
              "      <td>[porqué, hago, cabeza, deooos]</td>\n",
              "      <td>0.77</td>\n",
              "      <td>0.03</td>\n",
              "      <td>0.03</td>\n",
              "      <td>0.03</td>\n",
              "      <td>0.03</td>\n",
              "      <td>0.03</td>\n",
              "      <td>0.03</td>\n",
              "      <td>0.03</td>\n",
              "      <td>0.03</td>\n",
              "      <td>0.03</td>\n",
              "      <td>1</td>\n",
              "    </tr>\n",
              "    <tr>\n",
              "      <th>4</th>\n",
              "      <td>tweet5</td>\n",
              "      <td>quisiera saber que hago durante la siesta de l...</td>\n",
              "      <td>0</td>\n",
              "      <td>NaN</td>\n",
              "      <td>NaN</td>\n",
              "      <td>quisiera saber que hago durante la siesta de l...</td>\n",
              "      <td>[quisiera, saber, que, hago, durante, la, sies...</td>\n",
              "      <td>[quisiera, saber, hago, siesta, levanto, cansa...</td>\n",
              "      <td>[quisiera, saber, hago, siesta, levanto, cansa...</td>\n",
              "      <td>0.01</td>\n",
              "      <td>0.01</td>\n",
              "      <td>0.01</td>\n",
              "      <td>0.01</td>\n",
              "      <td>0.01</td>\n",
              "      <td>0.89</td>\n",
              "      <td>0.01</td>\n",
              "      <td>0.01</td>\n",
              "      <td>0.01</td>\n",
              "      <td>0.01</td>\n",
              "      <td>6</td>\n",
              "    </tr>\n",
              "    <tr>\n",
              "      <th>5</th>\n",
              "      <td>tweet6</td>\n",
              "      <td>la persona que te dice que no se arrepiente de...</td>\n",
              "      <td>0</td>\n",
              "      <td>NaN</td>\n",
              "      <td>NaN</td>\n",
              "      <td>la persona que te dice que no se arrepiente de...</td>\n",
              "      <td>[la, persona, que, te, dice, que, no, se, arre...</td>\n",
              "      <td>[persona, dice, arrepiente, vida, toma, alcoho...</td>\n",
              "      <td>[persona, dice, arrepiente, vida, toma, alcoho...</td>\n",
              "      <td>0.01</td>\n",
              "      <td>0.01</td>\n",
              "      <td>0.01</td>\n",
              "      <td>0.01</td>\n",
              "      <td>0.01</td>\n",
              "      <td>0.01</td>\n",
              "      <td>0.90</td>\n",
              "      <td>0.01</td>\n",
              "      <td>0.01</td>\n",
              "      <td>0.01</td>\n",
              "      <td>7</td>\n",
              "    </tr>\n",
              "    <tr>\n",
              "      <th>6</th>\n",
              "      <td>tweet7</td>\n",
              "      <td>—buenas don pepe ¿me vende un litro de leche —...</td>\n",
              "      <td>1</td>\n",
              "      <td>2.5</td>\n",
              "      <td>NaN</td>\n",
              "      <td>buenas don pepe me vende un litro de leche ent...</td>\n",
              "      <td>[buenas, don, pepe, me, vende, un, litro, de, ...</td>\n",
              "      <td>[buenas, pepe, vende, litro, leche, entera, si...</td>\n",
              "      <td>[buenas, pepe, vende, litro, leche, enteron, s...</td>\n",
              "      <td>0.93</td>\n",
              "      <td>0.01</td>\n",
              "      <td>0.01</td>\n",
              "      <td>0.01</td>\n",
              "      <td>0.01</td>\n",
              "      <td>0.01</td>\n",
              "      <td>0.01</td>\n",
              "      <td>0.01</td>\n",
              "      <td>0.01</td>\n",
              "      <td>0.01</td>\n",
              "      <td>1</td>\n",
              "    </tr>\n",
              "    <tr>\n",
              "      <th>7</th>\n",
              "      <td>tweet8</td>\n",
              "      <td>meeee aburro</td>\n",
              "      <td>0</td>\n",
              "      <td>NaN</td>\n",
              "      <td>NaN</td>\n",
              "      <td>meeee aburro</td>\n",
              "      <td>[meee, aburro]</td>\n",
              "      <td>[meee, aburro]</td>\n",
              "      <td>[meee, aburro]</td>\n",
              "      <td>0.05</td>\n",
              "      <td>0.05</td>\n",
              "      <td>0.05</td>\n",
              "      <td>0.05</td>\n",
              "      <td>0.05</td>\n",
              "      <td>0.05</td>\n",
              "      <td>0.05</td>\n",
              "      <td>0.05</td>\n",
              "      <td>0.05</td>\n",
              "      <td>0.55</td>\n",
              "      <td>10</td>\n",
              "    </tr>\n",
              "    <tr>\n",
              "      <th>8</th>\n",
              "      <td>tweet9</td>\n",
              "      <td>macri le dijo las gordas que usar calzas está ...</td>\n",
              "      <td>0</td>\n",
              "      <td>NaN</td>\n",
              "      <td>NaN</td>\n",
              "      <td>macri le dijo las gordas que usar calzas está ...</td>\n",
              "      <td>[macri, le, dijo, las, gordas, que, usar, calz...</td>\n",
              "      <td>[macri, dijo, gordas, usar, calzas, bien]</td>\n",
              "      <td>[macri, dijo, gordas, usar, calzas, bien]</td>\n",
              "      <td>0.02</td>\n",
              "      <td>0.02</td>\n",
              "      <td>0.02</td>\n",
              "      <td>0.02</td>\n",
              "      <td>0.02</td>\n",
              "      <td>0.02</td>\n",
              "      <td>0.02</td>\n",
              "      <td>0.02</td>\n",
              "      <td>0.85</td>\n",
              "      <td>0.02</td>\n",
              "      <td>9</td>\n",
              "    </tr>\n",
              "    <tr>\n",
              "      <th>9</th>\n",
              "      <td>tweet10</td>\n",
              "      <td>javier chicalito hernandez 7</td>\n",
              "      <td>0</td>\n",
              "      <td>NaN</td>\n",
              "      <td>NaN</td>\n",
              "      <td>javier chicalito hernandez</td>\n",
              "      <td>[javier, chicalito, hernandez]</td>\n",
              "      <td>[javier, chicalito, hernandez]</td>\n",
              "      <td>[javier, chicalito, hernandez]</td>\n",
              "      <td>0.03</td>\n",
              "      <td>0.03</td>\n",
              "      <td>0.70</td>\n",
              "      <td>0.03</td>\n",
              "      <td>0.03</td>\n",
              "      <td>0.03</td>\n",
              "      <td>0.03</td>\n",
              "      <td>0.03</td>\n",
              "      <td>0.03</td>\n",
              "      <td>0.03</td>\n",
              "      <td>3</td>\n",
              "    </tr>\n",
              "  </tbody>\n",
              "</table>\n",
              "</div>"
            ],
            "text/plain": [
              "        id                                               text  is_humor  \\\n",
              "0   tweet1  niveles de retraso mental — bajo — medio — alt...         1   \n",
              "1   tweet2  —vamos luke desenfunda tu sable demuestra tu o...         1   \n",
              "2   tweet3   ¿te ofrezco algo ¿agua café mi corazón mi vid...         1   \n",
              "3   tweet4              no se porqué me hago la cabeza deooos         0   \n",
              "4   tweet5  quisiera saber que hago durante la siesta de l...         0   \n",
              "5   tweet6  la persona que te dice que no se arrepiente de...         0   \n",
              "6   tweet7  —buenas don pepe ¿me vende un litro de leche —...         1   \n",
              "7   tweet8                                       meeee aburro         0   \n",
              "8   tweet9  macri le dijo las gordas que usar calzas está ...         0   \n",
              "9  tweet10                       javier chicalito hernandez 7         0   \n",
              "\n",
              "   humor_rating humor_target  \\\n",
              "0           1.5          NaN   \n",
              "1           1.5          NaN   \n",
              "2           2.6          NaN   \n",
              "3           NaN          NaN   \n",
              "4           NaN          NaN   \n",
              "5           NaN          NaN   \n",
              "6           2.5          NaN   \n",
              "7           NaN          NaN   \n",
              "8           NaN          NaN   \n",
              "9           NaN          NaN   \n",
              "\n",
              "                                           CleanText  \\\n",
              "0  niveles de retraso mental bajo medio alto elev...   \n",
              "1  vamos luke desenfunda tu sable demuestra tu od...   \n",
              "2  te ofrezco algo agua café mi corazón mi vida e...   \n",
              "3              no se porqué me hago la cabeza deooos   \n",
              "4  quisiera saber que hago durante la siesta de l...   \n",
              "5  la persona que te dice que no se arrepiente de...   \n",
              "6  buenas don pepe me vende un litro de leche ent...   \n",
              "7                                       meeee aburro   \n",
              "8  macri le dijo las gordas que usar calzas está ...   \n",
              "9                         javier chicalito hernandez   \n",
              "\n",
              "                                        TokenizeText  \\\n",
              "0  [niveles, de, retraso, mental, bajo, medio, al...   \n",
              "1  [vamos, luke, desenfunda, tu, sable, demuestra...   \n",
              "2  [te, ofrezco, algo, agua, café, mi, corazón, m...   \n",
              "3     [no, se, porqué, me, hago, la, cabeza, deooos]   \n",
              "4  [quisiera, saber, que, hago, durante, la, sies...   \n",
              "5  [la, persona, que, te, dice, que, no, se, arre...   \n",
              "6  [buenas, don, pepe, me, vende, un, litro, de, ...   \n",
              "7                                     [meee, aburro]   \n",
              "8  [macri, le, dijo, las, gordas, que, usar, calz...   \n",
              "9                     [javier, chicalito, hernandez]   \n",
              "\n",
              "                                         NoStopwords  \\\n",
              "0  [niveles, retraso, mental, bajo, medio, alto, ...   \n",
              "1  [vamos, luke, desenfunda, sable, demuestra, od...   \n",
              "2  [ofrezco, agua, café, corazón, vida, entera, a...   \n",
              "3                     [porqué, hago, cabeza, deooos]   \n",
              "4  [quisiera, saber, hago, siesta, levanto, cansa...   \n",
              "5  [persona, dice, arrepiente, vida, toma, alcoho...   \n",
              "6  [buenas, pepe, vende, litro, leche, entera, si...   \n",
              "7                                     [meee, aburro]   \n",
              "8          [macri, dijo, gordas, usar, calzas, bien]   \n",
              "9                     [javier, chicalito, hernandez]   \n",
              "\n",
              "                                           LemmaText  Topic1  Topic2  Topic3  \\\n",
              "0  [niveles, retraso, mental, bajo, medio, alto, ...    0.01    0.01    0.01   \n",
              "1  [vamos, luke, desenfunda, sable, demuestra, od...    0.01    0.01    0.94   \n",
              "2  [ofrezco, agua, café, corazón, vida, enteron, ...    0.92    0.01    0.01   \n",
              "3                     [porqué, hago, cabeza, deooos]    0.77    0.03    0.03   \n",
              "4  [quisiera, saber, hago, siesta, levanto, cansa...    0.01    0.01    0.01   \n",
              "5  [persona, dice, arrepiente, vida, toma, alcoho...    0.01    0.01    0.01   \n",
              "6  [buenas, pepe, vende, litro, leche, enteron, s...    0.93    0.01    0.01   \n",
              "7                                     [meee, aburro]    0.05    0.05    0.05   \n",
              "8          [macri, dijo, gordas, usar, calzas, bien]    0.02    0.02    0.02   \n",
              "9                     [javier, chicalito, hernandez]    0.03    0.03    0.70   \n",
              "\n",
              "   Topic4  Topic5  Topic6  Topic7  Topic8  Topic9  Topic10  Dominant_topic  \n",
              "0    0.90    0.01    0.01    0.01    0.01    0.01     0.01               4  \n",
              "1    0.01    0.01    0.01    0.01    0.01    0.01     0.01               3  \n",
              "2    0.01    0.01    0.01    0.01    0.01    0.01     0.01               1  \n",
              "3    0.03    0.03    0.03    0.03    0.03    0.03     0.03               1  \n",
              "4    0.01    0.01    0.89    0.01    0.01    0.01     0.01               6  \n",
              "5    0.01    0.01    0.01    0.90    0.01    0.01     0.01               7  \n",
              "6    0.01    0.01    0.01    0.01    0.01    0.01     0.01               1  \n",
              "7    0.05    0.05    0.05    0.05    0.05    0.05     0.55              10  \n",
              "8    0.02    0.02    0.02    0.02    0.02    0.85     0.02               9  \n",
              "9    0.03    0.03    0.03    0.03    0.03    0.03     0.03               3  "
            ]
          },
          "metadata": {},
          "output_type": "display_data"
        }
      ],
      "source": [
        "# column names\n",
        "topic_names = [\"Topic\" + str(i) for i in range(1, lda_model.n_components + 1)]\n",
        "\n",
        "# make the pandas dataframe\n",
        "\n",
        "df_document_topic = pd.DataFrame(np.round(lda_output, 2), columns = topic_names)\n",
        "\n",
        "# get dominant topic for each document\n",
        "\n",
        "dominant_topic = (np.argmax(df_document_topic.values, axis=1)+1)\n",
        "df_document_topic['Dominant_topic'] = dominant_topic\n",
        "\n",
        "# join to original dataframes\n",
        "\n",
        "dfLDA = pd.merge(df, df_document_topic, left_index = True, right_index = True, how = 'outer')\n",
        "display(dfLDA.head(10))"
      ]
    },
    {
      "cell_type": "code",
      "execution_count": 107,
      "metadata": {
        "colab": {
          "base_uri": "https://localhost:8080/",
          "height": 480
        },
        "id": "Mq0o_eMzvRdB",
        "outputId": "2245cb71-f764-493e-9d54-c4972f8e6f52"
      },
      "outputs": [
        {
          "data": {
            "text/html": [
              "<div>\n",
              "<style scoped>\n",
              "    .dataframe tbody tr th:only-of-type {\n",
              "        vertical-align: middle;\n",
              "    }\n",
              "\n",
              "    .dataframe tbody tr th {\n",
              "        vertical-align: top;\n",
              "    }\n",
              "\n",
              "    .dataframe thead th {\n",
              "        text-align: right;\n",
              "    }\n",
              "</style>\n",
              "<table border=\"1\" class=\"dataframe\">\n",
              "  <thead>\n",
              "    <tr style=\"text-align: right;\">\n",
              "      <th></th>\n",
              "      <th>topic</th>\n",
              "      <th>relevance_score</th>\n",
              "    </tr>\n",
              "  </thead>\n",
              "  <tbody>\n",
              "    <tr>\n",
              "      <th>00 cosas</th>\n",
              "      <td>Topic10</td>\n",
              "      <td>1.100000</td>\n",
              "    </tr>\n",
              "    <tr>\n",
              "      <th>00 d3</th>\n",
              "      <td>Topic3</td>\n",
              "      <td>4.100014</td>\n",
              "    </tr>\n",
              "    <tr>\n",
              "      <th>00 dejar</th>\n",
              "      <td>Topic5</td>\n",
              "      <td>1.100000</td>\n",
              "    </tr>\n",
              "    <tr>\n",
              "      <th>00 dosogas</th>\n",
              "      <td>Topic10</td>\n",
              "      <td>1.100000</td>\n",
              "    </tr>\n",
              "    <tr>\n",
              "      <th>00 llegué</th>\n",
              "      <td>Topic9</td>\n",
              "      <td>1.100000</td>\n",
              "    </tr>\n",
              "  </tbody>\n",
              "</table>\n",
              "</div>"
            ],
            "text/plain": [
              "              topic  relevance_score\n",
              "00 cosas    Topic10         1.100000\n",
              "00 d3        Topic3         4.100014\n",
              "00 dejar     Topic5         1.100000\n",
              "00 dosogas  Topic10         1.100000\n",
              "00 llegué    Topic9         1.100000"
            ]
          },
          "execution_count": 107,
          "metadata": {},
          "output_type": "execute_result"
        }
      ],
      "source": [
        "# Make the pandas dataframe\n",
        "df_document_topic = pd.DataFrame(np.round(lda_output, 2), columns=topic_names)\n",
        "\n",
        "# Get dominant topic for each document\n",
        "dominant_topic = np.argmax(df_document_topic.values, axis=1)\n",
        "df_document_topic['dominant_topic'] = dominant_topic\n",
        "\n",
        "# Topic-Keyword Matrix\n",
        "df_topic_keywords = pd.DataFrame(lda_model.components_)\n",
        "\n",
        "# Assign Column and Index\n",
        "df_topic_keywords.columns = vectorizer.get_feature_names()\n",
        "df_topic_keywords.index = topic_names\n",
        "\n",
        "df_topic_no = pd.DataFrame(df_topic_keywords.idxmax())\n",
        "df_scores = pd.DataFrame(df_topic_keywords.max())\n",
        "\n",
        "tmp = pd.merge(df_topic_no, df_scores, left_index=True, right_index=True)\n",
        "tmp.columns = ['topic', 'relevance_score']\n",
        "\n",
        "tmp.head()"
      ]
    },
    {
      "cell_type": "code",
      "execution_count": 108,
      "metadata": {
        "id": "xsBC4nhgvX4h"
      },
      "outputs": [],
      "source": [
        "banned = ['Topic']\n",
        "tmp = tmp.replace(dict(zip(banned,['']*len(banned))),regex=True)"
      ]
    },
    {
      "cell_type": "code",
      "execution_count": 109,
      "metadata": {
        "colab": {
          "base_uri": "https://localhost:8080/",
          "height": 206
        },
        "id": "BMVd6oTvvcbM",
        "outputId": "f7cfc0ef-3df3-4ec5-b74d-56985c89c153"
      },
      "outputs": [
        {
          "data": {
            "text/html": [
              "<div>\n",
              "<style scoped>\n",
              "    .dataframe tbody tr th:only-of-type {\n",
              "        vertical-align: middle;\n",
              "    }\n",
              "\n",
              "    .dataframe tbody tr th {\n",
              "        vertical-align: top;\n",
              "    }\n",
              "\n",
              "    .dataframe thead th {\n",
              "        text-align: right;\n",
              "    }\n",
              "</style>\n",
              "<table border=\"1\" class=\"dataframe\">\n",
              "  <thead>\n",
              "    <tr style=\"text-align: right;\">\n",
              "      <th></th>\n",
              "      <th>topic</th>\n",
              "      <th>relevance_score</th>\n",
              "    </tr>\n",
              "  </thead>\n",
              "  <tbody>\n",
              "    <tr>\n",
              "      <th>00 cosas</th>\n",
              "      <td>10</td>\n",
              "      <td>1.100000</td>\n",
              "    </tr>\n",
              "    <tr>\n",
              "      <th>00 d3</th>\n",
              "      <td>3</td>\n",
              "      <td>4.100014</td>\n",
              "    </tr>\n",
              "    <tr>\n",
              "      <th>00 dejar</th>\n",
              "      <td>5</td>\n",
              "      <td>1.100000</td>\n",
              "    </tr>\n",
              "    <tr>\n",
              "      <th>00 dosogas</th>\n",
              "      <td>10</td>\n",
              "      <td>1.100000</td>\n",
              "    </tr>\n",
              "    <tr>\n",
              "      <th>00 llegué</th>\n",
              "      <td>9</td>\n",
              "      <td>1.100000</td>\n",
              "    </tr>\n",
              "    <tr>\n",
              "      <th>00 vean</th>\n",
              "      <td>10</td>\n",
              "      <td>1.100000</td>\n",
              "    </tr>\n",
              "    <tr>\n",
              "      <th>0055florida seguime</th>\n",
              "      <td>9</td>\n",
              "      <td>1.100000</td>\n",
              "    </tr>\n",
              "    <tr>\n",
              "      <th>01 cambió</th>\n",
              "      <td>1</td>\n",
              "      <td>1.100000</td>\n",
              "    </tr>\n",
              "    <tr>\n",
              "      <th>01 compuesto</th>\n",
              "      <td>6</td>\n",
              "      <td>1.100000</td>\n",
              "    </tr>\n",
              "    <tr>\n",
              "      <th>01 fb</th>\n",
              "      <td>1</td>\n",
              "      <td>1.100000</td>\n",
              "    </tr>\n",
              "  </tbody>\n",
              "</table>\n",
              "</div>"
            ],
            "text/plain": [
              "                     topic  relevance_score\n",
              "00 cosas                10         1.100000\n",
              "00 d3                    3         4.100014\n",
              "00 dejar                 5         1.100000\n",
              "00 dosogas              10         1.100000\n",
              "00 llegué                9         1.100000\n",
              "00 vean                 10         1.100000\n",
              "0055florida seguime      9         1.100000\n",
              "01 cambió                1         1.100000\n",
              "01 compuesto             6         1.100000\n",
              "01 fb                    1         1.100000"
            ]
          },
          "execution_count": 109,
          "metadata": {},
          "output_type": "execute_result"
        }
      ],
      "source": [
        "tmp[\"topic\"] = tmp[\"topic\"].astype(int) \n",
        "tmp.head(10)"
      ]
    },
    {
      "cell_type": "code",
      "execution_count": 110,
      "metadata": {
        "colab": {
          "base_uri": "https://localhost:8080/",
          "height": 206
        },
        "id": "zn2tX2gCveTT",
        "outputId": "0ae35ae4-f173-4c73-891a-53fa17b9934e"
      },
      "outputs": [
        {
          "data": {
            "text/html": [
              "<div>\n",
              "<style scoped>\n",
              "    .dataframe tbody tr th:only-of-type {\n",
              "        vertical-align: middle;\n",
              "    }\n",
              "\n",
              "    .dataframe tbody tr th {\n",
              "        vertical-align: top;\n",
              "    }\n",
              "\n",
              "    .dataframe thead th {\n",
              "        text-align: right;\n",
              "    }\n",
              "</style>\n",
              "<table border=\"1\" class=\"dataframe\">\n",
              "  <thead>\n",
              "    <tr style=\"text-align: right;\">\n",
              "      <th></th>\n",
              "      <th>Dominant_topic</th>\n",
              "      <th>topic_name</th>\n",
              "    </tr>\n",
              "  </thead>\n",
              "  <tbody>\n",
              "    <tr>\n",
              "      <th>0</th>\n",
              "      <td>11</td>\n",
              "      <td>[escribiendo escribiendo]</td>\n",
              "    </tr>\n",
              "    <tr>\n",
              "      <th>1</th>\n",
              "      <td>4</td>\n",
              "      <td>[si va]</td>\n",
              "    </tr>\n",
              "    <tr>\n",
              "      <th>2</th>\n",
              "      <td>6</td>\n",
              "      <td>[chistes humor]</td>\n",
              "    </tr>\n",
              "    <tr>\n",
              "      <th>3</th>\n",
              "      <td>10</td>\n",
              "      <td>[cómo llama]</td>\n",
              "    </tr>\n",
              "    <tr>\n",
              "      <th>4</th>\n",
              "      <td>2</td>\n",
              "      <td>[puede ser]</td>\n",
              "    </tr>\n",
              "  </tbody>\n",
              "</table>\n",
              "</div>"
            ],
            "text/plain": [
              "   Dominant_topic                 topic_name\n",
              "0              11  [escribiendo escribiendo]\n",
              "1               4                    [si va]\n",
              "2               6            [chistes humor]\n",
              "3              10               [cómo llama]\n",
              "4               2                [puede ser]"
            ]
          },
          "execution_count": 110,
          "metadata": {},
          "output_type": "execute_result"
        }
      ],
      "source": [
        "all_topics = []\n",
        "\n",
        "for i in tmp['topic'].unique():    \n",
        "    tmp_1 = tmp.loc[tmp['topic'] == i].reset_index()\n",
        "    tmp_1 = tmp_1.sort_values('relevance_score', ascending=False).head(1)\n",
        "\n",
        "    tmp_1['topic'] = tmp_1['topic'] + 1\n",
        "    \n",
        "    tmp_2 = []\n",
        "    tmp_2.append(tmp_1['topic'].unique()[0])\n",
        "    tmp_2.append(list(tmp_1['index'].unique()))\n",
        "    all_topics.append(tmp_2)\n",
        "\n",
        "all_topics = pd.DataFrame(all_topics, columns=['Dominant_topic', 'topic_name'])\n",
        "all_topics.head()"
      ]
    },
    {
      "cell_type": "code",
      "execution_count": 111,
      "metadata": {
        "colab": {
          "base_uri": "https://localhost:8080/",
          "height": 206
        },
        "id": "iPMIwYYjvoJl",
        "outputId": "c4a4e639-79f1-43d7-8931-524b5fc4c3bf"
      },
      "outputs": [
        {
          "data": {
            "text/html": [
              "<div>\n",
              "<style scoped>\n",
              "    .dataframe tbody tr th:only-of-type {\n",
              "        vertical-align: middle;\n",
              "    }\n",
              "\n",
              "    .dataframe tbody tr th {\n",
              "        vertical-align: top;\n",
              "    }\n",
              "\n",
              "    .dataframe thead tr th {\n",
              "        text-align: left;\n",
              "    }\n",
              "\n",
              "    .dataframe thead tr:last-of-type th {\n",
              "        text-align: right;\n",
              "    }\n",
              "</style>\n",
              "<table border=\"1\" class=\"dataframe\">\n",
              "  <thead>\n",
              "    <tr>\n",
              "      <th>topic_name</th>\n",
              "    </tr>\n",
              "  </thead>\n",
              "  <tbody>\n",
              "    <tr>\n",
              "      <th>buen día</th>\n",
              "    </tr>\n",
              "    <tr>\n",
              "      <th>cada vez</th>\n",
              "    </tr>\n",
              "    <tr>\n",
              "      <th>chistes humor</th>\n",
              "    </tr>\n",
              "    <tr>\n",
              "      <th>chistes rt</th>\n",
              "    </tr>\n",
              "    <tr>\n",
              "      <th>cómo llama</th>\n",
              "    </tr>\n",
              "    <tr>\n",
              "      <th>ja ja</th>\n",
              "    </tr>\n",
              "    <tr>\n",
              "      <th>puede ser</th>\n",
              "    </tr>\n",
              "    <tr>\n",
              "      <th>si va</th>\n",
              "    </tr>\n",
              "    <tr>\n",
              "      <th>va ser</th>\n",
              "    </tr>\n",
              "  </tbody>\n",
              "</table>\n",
              "</div>"
            ],
            "text/plain": [
              "Empty DataFrame\n",
              "Columns: []\n",
              "Index: [buen día, cada vez, chistes humor, chistes rt, cómo llama, ja ja, puede ser, si va, va ser]"
            ]
          },
          "metadata": {},
          "output_type": "display_data"
        }
      ],
      "source": [
        "results = dfLDA.groupby(['Dominant_topic', 'is_humor']).count().reset_index()\n",
        "\n",
        "results = results.merge(all_topics, on='Dominant_topic')\n",
        "results['topic_name'] = results['topic_name'].apply(', '.join)\n",
        "\n",
        "graph_results = results[['topic_name', 'is_humor']]\n",
        "graph_results = graph_results.pivot(index='topic_name', columns='is_humor').reset_index()\n",
        "\n",
        "graph_results.set_index('topic_name', inplace=True)\n",
        "\n",
        "display(graph_results)"
      ]
    },
    {
      "cell_type": "code",
      "execution_count": 92,
      "metadata": {
        "colab": {
          "base_uri": "https://localhost:8080/",
          "height": 382
        },
        "id": "Zwk8vnL4wvHs",
        "outputId": "f93e9813-1870-441a-f25b-8a35acf6a4a6"
      },
      "outputs": [
        {
          "data": {
            "image/png": "[encoded data removed]",
            "text/plain": [
              "<Figure size 720x360 with 1 Axes>"
            ]
          },
          "metadata": {
            "needs_background": "light"
          },
          "output_type": "display_data"
        }
      ],
      "source": [
        "fig = graph_results[[1]].plot.bar(rot=90, figsize=(10,5))\n",
        "fig.figure.savefig('sentiment_analysis.png', bbox_inches='tight', dpi=300)"
      ]
    },
    {
      "cell_type": "code",
      "execution_count": null,
      "metadata": {
        "id": "EbB9BmF1wyXJ"
      },
      "outputs": [],
      "source": []
    }
  ],
  "metadata": {
    "colab": {
      "collapsed_sections": [],
      "name": "ProyectoRP.ipynb",
      "provenance": []
    },
    "interpreter": {
      "hash": "7ea0809589b0323cf5406ab4f284eb1cb5f6416292f4a9799aa9889d8fe4b758"
    },
    "kernelspec": {
      "display_name": "Python 3.6.2 64-bit",
      "language": "python",
      "name": "python3"
    },
    "language_info": {
      "codemirror_mode": {
        "name": "ipython",
        "version": 3
      },
      "file_extension": ".py",
      "mimetype": "text/x-python",
      "name": "python",
      "nbconvert_exporter": "python",
      "pygments_lexer": "ipython3",
      "version": "3.6.2"
    }
  },
  "nbformat": 4,
  "nbformat_minor": 0
}
